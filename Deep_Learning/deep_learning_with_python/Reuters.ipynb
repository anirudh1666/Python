{
  "nbformat": 4,
  "nbformat_minor": 0,
  "metadata": {
    "colab": {
      "name": "Reuters.ipynb",
      "provenance": [],
      "collapsed_sections": []
    },
    "kernelspec": {
      "name": "python3",
      "display_name": "Python 3"
    },
    "accelerator": "GPU"
  },
  "cells": [
    {
      "cell_type": "code",
      "metadata": {
        "id": "tQqUhLjGYqk6",
        "colab_type": "code",
        "colab": {
          "base_uri": "https://localhost:8080/",
          "height": 728
        },
        "outputId": "8017539d-1a27-4d81-c0e2-75ceb2b4104a"
      },
      "source": [
        "# This is a single label, multiclass problem. The problem is to classify newswires into \n",
        "# 46 mutually exclusive topics. Each newswire can only be put into one topic. We use the\n",
        "# Reuters dataset for this problem.\n",
        "\n",
        "from keras.datasets import reuters\n",
        "from keras import models\n",
        "from keras import layers\n",
        "import numpy as np\n",
        "import matplotlib.pyplot as plt\n",
        "\n",
        "# This function makes the sequences into a format that can be read. \n",
        "def vectorize_sequences(sequence, dimension=10000):\n",
        "\n",
        "  results = np.zeros((len(sequence), dimension))\n",
        "  for i, seq in enumerate(sequence):\n",
        "    results[i, seq] = 1\n",
        "   \n",
        "  return results\n",
        "\n",
        "# This used to vectorize the labels. For categorical encoding we use one hot.\n",
        "# It turns each label into an all-zero vector with a 1 in place of label index.\n",
        "def to_one_hot(labels, dimension=46):\n",
        "\n",
        "  results = np.zeros((len(labels), dimension))\n",
        "  for i, label in enumerate(labels):\n",
        "    results[i, label] = 1\n",
        "  \n",
        "  return results\n",
        "  \n",
        "\n",
        "\n",
        "# num_words limits to top 10000 frequent words. labels show which category data point belongs to.\n",
        "# There are 0-45 (inclusive) values.  \n",
        "(train_data, train_labels), (test_data, test_labels) = reuters.load_data(num_words=10000)\n",
        "\n",
        "# Vectorize the input data into a format that can be read. Consists of turning each \n",
        "# data point into a vector filled with 1's and 0's.\n",
        "x_train = vectorize_sequences(train_data)\n",
        "x_test = vectorize_sequences(test_data)\n",
        "\n",
        "# There is inbuilt way of doing categorical encoding. Use \n",
        "# from keras.util.np_utils import to_categorical\n",
        "# \n",
        "# one_hot_train_labels = to_categorical(train_labels)\n",
        "one_hot_train_labels = to_one_hot(train_labels)\n",
        "one_hot_test_labels = to_one_hot(test_labels)\n",
        "\n",
        "# We use sequential architecture with dense layers. We use a lot of hidden layers since\n",
        "# there are 46 categories and having too few e.g. 16 layers may lead to information being \n",
        "# lost inbetween layers so we use 64. We use softmax so that it outputs a 46 dimensional vector\n",
        "# where the i th entry corresponds to a probability that the datapoint belongs to that category.\n",
        "# Sum of all values in each vector = 1.\n",
        "model = models.Sequential()\n",
        "model.add(layers.Dense(64, activation='relu', input_shape=(10000,)))\n",
        "model.add(layers.Dense(64, activation='relu'))\n",
        "model.add(layers.Dense(46, activation='softmax'))\n",
        "\n",
        "model.compile(optimizer='rmsprop', loss='categorical_crossentropy', metrics=['acc'])\n",
        "\n",
        "# We get validation set.\n",
        "x_val = x_train[:1000]\n",
        "partial_x_train = x_train[1000:]\n",
        "\n",
        "y_val = one_hot_train_labels[:1000]\n",
        "partial_y_train = one_hot_train_labels[1000:]\n",
        "\n",
        "history = model.fit(partial_x_train,\n",
        "                    partial_y_train,\n",
        "                    epochs=20,\n",
        "                    batch_size=512,\n",
        "                    validation_data=(x_val, y_val))\n"
      ],
      "execution_count": null,
      "outputs": [
        {
          "output_type": "stream",
          "text": [
            "Train on 7982 samples, validate on 1000 samples\n",
            "Epoch 1/20\n",
            "7982/7982 [==============================] - 1s 70us/step - loss: 2.5225 - acc: 0.5243 - val_loss: 1.6502 - val_acc: 0.6600\n",
            "Epoch 2/20\n",
            "7982/7982 [==============================] - 0s 56us/step - loss: 1.3736 - acc: 0.7065 - val_loss: 1.2863 - val_acc: 0.7240\n",
            "Epoch 3/20\n",
            "7982/7982 [==============================] - 0s 57us/step - loss: 1.0409 - acc: 0.7732 - val_loss: 1.1363 - val_acc: 0.7470\n",
            "Epoch 4/20\n",
            "7982/7982 [==============================] - 0s 58us/step - loss: 0.8244 - acc: 0.8287 - val_loss: 1.0374 - val_acc: 0.7840\n",
            "Epoch 5/20\n",
            "7982/7982 [==============================] - 0s 57us/step - loss: 0.6546 - acc: 0.8638 - val_loss: 0.9802 - val_acc: 0.8080\n",
            "Epoch 6/20\n",
            "7982/7982 [==============================] - 0s 58us/step - loss: 0.5216 - acc: 0.8915 - val_loss: 0.9423 - val_acc: 0.8200\n",
            "Epoch 7/20\n",
            "7982/7982 [==============================] - 0s 57us/step - loss: 0.4222 - acc: 0.9083 - val_loss: 0.9145 - val_acc: 0.8250\n",
            "Epoch 8/20\n",
            "7982/7982 [==============================] - 0s 57us/step - loss: 0.3404 - acc: 0.9271 - val_loss: 0.9149 - val_acc: 0.8160\n",
            "Epoch 9/20\n",
            "7982/7982 [==============================] - 0s 58us/step - loss: 0.2798 - acc: 0.9385 - val_loss: 0.9221 - val_acc: 0.8170\n",
            "Epoch 10/20\n",
            "7982/7982 [==============================] - 0s 58us/step - loss: 0.2362 - acc: 0.9454 - val_loss: 0.9163 - val_acc: 0.8120\n",
            "Epoch 11/20\n",
            "7982/7982 [==============================] - 0s 58us/step - loss: 0.2014 - acc: 0.9496 - val_loss: 1.0031 - val_acc: 0.7980\n",
            "Epoch 12/20\n",
            "7982/7982 [==============================] - 0s 56us/step - loss: 0.1792 - acc: 0.9520 - val_loss: 0.9834 - val_acc: 0.8080\n",
            "Epoch 13/20\n",
            "7982/7982 [==============================] - 0s 58us/step - loss: 0.1590 - acc: 0.9535 - val_loss: 0.9886 - val_acc: 0.8110\n",
            "Epoch 14/20\n",
            "7982/7982 [==============================] - 0s 58us/step - loss: 0.1498 - acc: 0.9543 - val_loss: 0.9940 - val_acc: 0.8130\n",
            "Epoch 15/20\n",
            "7982/7982 [==============================] - 0s 58us/step - loss: 0.1378 - acc: 0.9543 - val_loss: 1.0390 - val_acc: 0.8020\n",
            "Epoch 16/20\n",
            "7982/7982 [==============================] - 0s 59us/step - loss: 0.1285 - acc: 0.9567 - val_loss: 1.1349 - val_acc: 0.8000\n",
            "Epoch 17/20\n",
            "7982/7982 [==============================] - 0s 58us/step - loss: 0.1229 - acc: 0.9573 - val_loss: 1.0837 - val_acc: 0.8000\n",
            "Epoch 18/20\n",
            "7982/7982 [==============================] - 0s 59us/step - loss: 0.1170 - acc: 0.9587 - val_loss: 1.0880 - val_acc: 0.8060\n",
            "Epoch 19/20\n",
            "7982/7982 [==============================] - 0s 59us/step - loss: 0.1142 - acc: 0.9585 - val_loss: 1.1254 - val_acc: 0.7990\n",
            "Epoch 20/20\n",
            "7982/7982 [==============================] - 0s 57us/step - loss: 0.1130 - acc: 0.9567 - val_loss: 1.1110 - val_acc: 0.8050\n"
          ],
          "name": "stdout"
        }
      ]
    },
    {
      "cell_type": "code",
      "metadata": {
        "id": "vUtv0dAWhLEo",
        "colab_type": "code",
        "colab": {
          "base_uri": "https://localhost:8080/",
          "height": 295
        },
        "outputId": "5a10468c-bb37-4fc2-eccf-f19d71e232f4"
      },
      "source": [
        "loss = history.history['loss']\n",
        "val_loss = history.history['val_loss']\n",
        "\n",
        "epochs = range(1, len(loss) + 1)\n",
        "\n",
        "plt.plot(epochs, loss, 'bo', label='Training loss')\n",
        "plt.plot(epochs, val_loss, 'b', label='Validation loss')\n",
        "plt.title('Training and validation loss')\n",
        "plt.xlabel('Epochs')\n",
        "plt.ylabel('Loss')\n",
        "plt.legend()\n",
        "plt.show()"
      ],
      "execution_count": null,
      "outputs": [
        {
          "output_type": "display_data",
          "data": {
            "image/png": "[encoded data removed]",
            "text/plain": [
              "<Figure size 432x288 with 1 Axes>"
            ]
          },
          "metadata": {
            "tags": [],
            "needs_background": "light"
          }
        }
      ]
    },
    {
      "cell_type": "code",
      "metadata": {
        "id": "Wnlpo-bthsvT",
        "colab_type": "code",
        "colab": {
          "base_uri": "https://localhost:8080/",
          "height": 295
        },
        "outputId": "3a5d6d40-a721-424f-ec9a-057b5de1e85b"
      },
      "source": [
        "plt.clf()\n",
        "\n",
        "acc = history.history['acc']\n",
        "val_acc = history.history['val_acc']\n",
        "\n",
        "plt.plot(epochs, acc, 'bo', label='Training acc')\n",
        "plt.plot(epochs, val_acc, 'b', label='Validation acc')\n",
        "plt.title('Training and validation accuracy')\n",
        "plt.xlabel('Epochs')\n",
        "plt.ylabel('Loss')\n",
        "plt.legend()\n",
        "plt.show()"
      ],
      "execution_count": null,
      "outputs": [
        {
          "output_type": "display_data",
          "data": {
            "image/png": "[encoded data removed]",
            "text/plain": [
              "<Figure size 432x288 with 1 Axes>"
            ]
          },
          "metadata": {
            "tags": [],
            "needs_background": "light"
          }
        }
      ]
    },
    {
      "cell_type": "code",
      "metadata": {
        "id": "Yypx3O5-jttk",
        "colab_type": "code",
        "colab": {
          "base_uri": "https://localhost:8080/",
          "height": 381
        },
        "outputId": "430c07e7-a026-4d31-f925-e5a143e63314"
      },
      "source": [
        "# From the graphs we can see that after the 7th ish epoch the validation acc decreases \n",
        "# and validation loss increases. This means our neural network is overfitting to the dataset.\n",
        "# We can retrain our neural network with less epochs\n",
        "\n",
        "model = models.Sequential()\n",
        "model.add(layers.Dense(64, activation='relu', input_shape=(10000,)))\n",
        "model.add(layers.Dense(54, activation='relu'))\n",
        "model.add(layers.Dense(46, activation='softmax'))\n",
        "\n",
        "model.compile(optimizer='rmsprop',\n",
        "              loss='categorical_crossentropy',\n",
        "              metrics=['acc'])\n",
        "model.fit(partial_x_train,\n",
        "          partial_y_train,\n",
        "          epochs=9,\n",
        "          batch_size=512, \n",
        "          validation_data=(x_val, y_val))\n",
        "results = model.evaluate(x_test, one_hot_test_labels)\n",
        "print(results)"
      ],
      "execution_count": null,
      "outputs": [
        {
          "output_type": "stream",
          "text": [
            "Train on 7982 samples, validate on 1000 samples\n",
            "Epoch 1/9\n",
            "7982/7982 [==============================] - 1s 74us/step - loss: 2.6846 - acc: 0.5238 - val_loss: 1.7898 - val_acc: 0.6220\n",
            "Epoch 2/9\n",
            "7982/7982 [==============================] - 1s 63us/step - loss: 1.4324 - acc: 0.7037 - val_loss: 1.3211 - val_acc: 0.6980\n",
            "Epoch 3/9\n",
            "7982/7982 [==============================] - 0s 62us/step - loss: 1.0465 - acc: 0.7754 - val_loss: 1.1296 - val_acc: 0.7430\n",
            "Epoch 4/9\n",
            "7982/7982 [==============================] - 0s 61us/step - loss: 0.8229 - acc: 0.8266 - val_loss: 1.0588 - val_acc: 0.7830\n",
            "Epoch 5/9\n",
            "7982/7982 [==============================] - 0s 60us/step - loss: 0.6631 - acc: 0.8602 - val_loss: 0.9647 - val_acc: 0.8080\n",
            "Epoch 6/9\n",
            "7982/7982 [==============================] - 0s 62us/step - loss: 0.5349 - acc: 0.8887 - val_loss: 0.9383 - val_acc: 0.8030\n",
            "Epoch 7/9\n",
            "7982/7982 [==============================] - 0s 61us/step - loss: 0.4361 - acc: 0.9126 - val_loss: 0.9193 - val_acc: 0.8120\n",
            "Epoch 8/9\n",
            "7982/7982 [==============================] - 1s 64us/step - loss: 0.3548 - acc: 0.9258 - val_loss: 0.9097 - val_acc: 0.8170\n",
            "Epoch 9/9\n",
            "7982/7982 [==============================] - 1s 63us/step - loss: 0.2964 - acc: 0.9375 - val_loss: 0.9143 - val_acc: 0.8230\n",
            "2246/2246 [==============================] - 0s 116us/step\n",
            "[0.992700343883579, 0.7813891172409058]\n"
          ],
          "name": "stdout"
        }
      ]
    },
    {
      "cell_type": "code",
      "metadata": {
        "id": "Icgj9MhUk4kD",
        "colab_type": "code",
        "colab": {
          "base_uri": "https://localhost:8080/",
          "height": 35
        },
        "outputId": "e87095b0-2a20-47c2-ada3-890ec4513893"
      },
      "source": [
        "# You can generate predictions as well.\n",
        "\n",
        "# Each entry is a 46 dimensional vector for each data point in x_test. The ith entry \n",
        "# corresponds to probability of that data point being that category. So to get the prediction\n",
        "# just get the largest value in vector.\n",
        "predictions = model.predict(x_test)\n",
        "print('Predicted category for first data point in x_test: ' + str(np.argmax(predictions[0])))\n"
      ],
      "execution_count": null,
      "outputs": [
        {
          "output_type": "stream",
          "text": [
            "Predicted category for first data point in x_test: 3\n"
          ],
          "name": "stdout"
        }
      ]
    }
  ]
}