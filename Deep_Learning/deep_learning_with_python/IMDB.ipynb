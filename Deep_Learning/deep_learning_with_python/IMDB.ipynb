{
  "nbformat": 4,
  "nbformat_minor": 0,
  "metadata": {
    "colab": {
      "name": "IMDB.ipynb",
      "provenance": []
    },
    "kernelspec": {
      "name": "python3",
      "display_name": "Python 3"
    },
    "accelerator": "GPU"
  },
  "cells": [
    {
      "cell_type": "code",
      "metadata": {
        "id": "0vTWJC9TSa32",
        "colab_type": "code",
        "colab": {
          "base_uri": "https://localhost:8080/",
          "height": 486
        },
        "outputId": "25354e0c-bdcd-4498-fb8b-b1d52ce25b46"
      },
      "source": [
        "# This code trains an AI to classify movie reviews as positive or negative. \n",
        "# The IMDB dataset consists of 50000 reviews with 25000 for training and\n",
        "# 25000 for testing. Each review has been turned into a sequence of integers \n",
        "# where each integer stands for a word in the dictonary.\n",
        "\n",
        "from keras.datasets import imdb\n",
        "from keras import models\n",
        "from keras import layers\n",
        "import numpy as np\n",
        "import matplotlib.pyplot as plt\n",
        "\n",
        "def vectorize_sequences(sequences, dimension=10000):\n",
        "\n",
        "    # Make 10000 dimension vector filled with 0.\n",
        "    # Make it have two rows since a word may appear multiple times.\n",
        "    results = np.zeros((len(sequences), dimension))\n",
        "\n",
        "    # Enumerate has a counter as well as going through the sequences.\n",
        "    for i, sequence in enumerate(sequences):\n",
        "        results[i, sequence] = 1\n",
        "      \n",
        "    return results\n",
        "\n",
        "\n",
        "# num_worsd=10000 means only keep top 10000 most frequently seen words.\n",
        "# train/test_labels are 1 for positive and 0 for negative.\n",
        "(train_data, train_labels), (test_data, test_labels) = imdb.load_data(num_words=10000)\n",
        "\n",
        "# Before we can train our AI we need to turn the sequences into tensors that\n",
        "# the AI can understand. We turn the sequences into 10000 dimension vectors \n",
        "# where the index of the integer is a 1. E.g. [5] would be a vector with 99999 \n",
        "# zeros and 1 1 at vector[4].\n",
        "x_train = vectorize_sequences(train_data)\n",
        "x_test = vectorize_sequences(test_data)\n",
        "\n",
        "y_train = np.asarray(train_labels).astype('float32')\n",
        "y_test = np.asarray(test_labels).astype('float32')\n",
        "\n",
        "# The architecture we are using are 2 intermediate dense layers with 16 hidden\n",
        "# units. A third layer that outputs a scalar prediction between 0 and 1 indicating\n",
        "# how likely the sample has the target 1. Having more hidden units allows AI to\n",
        "# to learn more complex representations but it can lead to unwanted patterns \n",
        "# and increases computation complexity. A relu (rectified linear unit) zeros out\n",
        "# any negative values. A sigmoid activation squashes values to between 0 and 1\n",
        "# so that it can be output as a probability.\n",
        "model = models.Sequential()\n",
        "model.add(layers.Dense(16, activation='relu', input_shape=(10000,)))\n",
        "model.add(layers.Dense(16, activation='relu'))\n",
        "model.add(layers.Dense(1, activation='sigmoid'))\n",
        "\n",
        "# The reason to use an activation function is that without it each layer would\n",
        "# apply dot(Weight_matrix, input_matrix) + b. This is a linear transformation\n",
        "# so the hypothesis space for the layer would just be all possible linear transformations.\n",
        "# This would be too restricted so an activation function is needed. You can use relu\n",
        "# prelu elu etc.\n",
        "\n",
        "# To monitor the training accuracy you make a validation set by setting apart\n",
        "# 10000 samples from the original training data.\n",
        "x_val = x_train[:10000]\n",
        "partial_x_train = x_train[10000:]\n",
        "y_val = y_train[:10000]\n",
        "partial_y_train = y_train[10000:]\n",
        "\n",
        "# Our loss function is binary_crossentroy. You can use other ones like mean_squared_error\n",
        "# but binary_crossentropy is good for models that output probabilities.\n",
        "model.compile(optimizer='rmsprop', loss='binary_crossentropy', metrics=['acc'])\n",
        "\n",
        "# Returns a History object which has member history which is a dictonary containing\n",
        "# everything that happened during training.\n",
        "history = model.fit(partial_x_train,\n",
        "                    partial_y_train,\n",
        "                    epochs=4,\n",
        "                    batch_size=512,\n",
        "                    validation_data=(x_val, y_val))\n",
        "\n",
        "# We can plot the training and validation data.\n",
        "history_dict = history.history\n",
        "acc = history_dict['acc']\n",
        "loss_values = history_dict['loss']\n",
        "val_loss_values = history_dict['val_loss']\n",
        "\n",
        "epochs = range(1, len(acc) + 1)\n",
        "\n",
        "# Plotting epochs against loss. bo is blue dot. b is blue line\n",
        "plt.plot(epochs, loss_values, 'bo', label='Training loss')\n",
        "plt.plot(epochs, val_loss_values, 'b', label='Validation loss')\n",
        "plt.title('Training and validation loss')\n",
        "plt.xlabel('Epochs')\n",
        "plt.ylabel(\"Loss\")\n",
        "plt.legend()\n",
        "plt.show()\n",
        "\n",
        "print(model.evaluate(x_test, y_test))"
      ],
      "execution_count": 6,
      "outputs": [
        {
          "output_type": "stream",
          "text": [
            "Train on 15000 samples, validate on 10000 samples\n",
            "Epoch 1/4\n",
            "15000/15000 [==============================] - 1s 90us/step - loss: 0.5233 - acc: 0.7825 - val_loss: 0.4066 - val_acc: 0.8468\n",
            "Epoch 2/4\n",
            "15000/15000 [==============================] - 1s 81us/step - loss: 0.3115 - acc: 0.9039 - val_loss: 0.3142 - val_acc: 0.8827\n",
            "Epoch 3/4\n",
            "15000/15000 [==============================] - 1s 81us/step - loss: 0.2304 - acc: 0.9258 - val_loss: 0.2816 - val_acc: 0.8920\n",
            "Epoch 4/4\n",
            "15000/15000 [==============================] - 1s 80us/step - loss: 0.1823 - acc: 0.9424 - val_loss: 0.2993 - val_acc: 0.8778\n"
          ],
          "name": "stdout"
        },
        {
          "output_type": "display_data",
          "data": {
            "image/png": "[encoded data removed]",
            "text/plain": [
              "<Figure size 432x288 with 1 Axes>"
            ]
          },
          "metadata": {
            "tags": [],
            "needs_background": "light"
          }
        },
        {
          "output_type": "stream",
          "text": [
            "25000/25000 [==============================] - 2s 76us/step\n",
            "[0.3245796118211746, 0.8668000102043152]\n"
          ],
          "name": "stdout"
        }
      ]
    },
    {
      "cell_type": "code",
      "metadata": {
        "id": "GvHy_QjE5We8",
        "colab_type": "code",
        "colab": {
          "base_uri": "https://localhost:8080/",
          "height": 295
        },
        "outputId": "28e58267-8852-4f72-c47c-7a027b378ab6"
      },
      "source": [
        "plt.clf()\n",
        "acc_values = history_dict['acc']\n",
        "val_acc_values = history_dict['val_acc']\n",
        "\n",
        "plt.plot(epochs, acc_values, 'bo', label='Training acc')\n",
        "plt.plot(epochs, val_acc_values, 'b', label='Validation acc')\n",
        "plt.title('Training and validation accuracy')\n",
        "plt.xlabel('Epochs')\n",
        "plt.ylabel('Loss')\n",
        "plt.legend()\n",
        "plt.show()"
      ],
      "execution_count": 7,
      "outputs": [
        {
          "output_type": "display_data",
          "data": {
            "image/png": "[encoded data removed]",
            "text/plain": [
              "<Figure size 432x288 with 1 Axes>"
            ]
          },
          "metadata": {
            "tags": [],
            "needs_background": "light"
          }
        }
      ]
    }
  ]
}